{
 "cells": [
  {
   "cell_type": "code",
   "execution_count": null,
   "id": "1d78f19a",
   "metadata": {},
   "outputs": [],
   "source": [
    "1.How many seconds are in an hour? Use the interactive interpreter as a calculator and \n",
    "multiply the number of seconds in a minute (60) by the number of minutes in an hour (also 60).\n",
    "\n",
    "60*60"
   ]
  },
  {
   "cell_type": "code",
   "execution_count": null,
   "id": "c4dead03",
   "metadata": {},
   "outputs": [],
   "source": [
    "2. Assign the result from the previous task (seconds in an hour) to a variable called \n",
    "seconds_per_hour.\n",
    "\n",
    "seconds_per_hour = 3600"
   ]
  },
  {
   "cell_type": "code",
   "execution_count": null,
   "id": "51ce5130",
   "metadata": {},
   "outputs": [],
   "source": [
    "3. How many seconds do you think there are in a day? \n",
    "Make use of the variables seconds per hour and minutes per hour.\n",
    "\n",
    "seconds_per_hour*24"
   ]
  },
  {
   "cell_type": "code",
   "execution_count": null,
   "id": "7dc78510",
   "metadata": {},
   "outputs": [],
   "source": [
    "4. Calculate seconds per day again, but this time save the result in a variable called seconds_per_day\n",
    "\n",
    "seconds_per_day = seconds_per_hour*24\n",
    "seconds_per_day"
   ]
  },
  {
   "cell_type": "code",
   "execution_count": null,
   "id": "21e86dce",
   "metadata": {},
   "outputs": [],
   "source": [
    "5. Divide seconds_per_day by seconds_per_hour. Use floating-point (/) division.\n",
    "\n",
    "seconds_per_day / seconds_per_hour"
   ]
  },
  {
   "cell_type": "code",
   "execution_count": null,
   "id": "4ef9edd7",
   "metadata": {},
   "outputs": [],
   "source": [
    "6. Divide seconds_per_day by seconds_per_hour, using integer (//) division. \n",
    "Did this number agree with the floating-point value from the previous question, aside from the final .0?\n",
    "\n",
    "seconds_per_day // seconds_per_hour"
   ]
  },
  {
   "cell_type": "code",
   "execution_count": null,
   "id": "0f4559f8",
   "metadata": {},
   "outputs": [],
   "source": [
    "7. Write a generator, genPrimes, that returns the sequence of prime numbers\n",
    "on successive calls to its next() method: 2, 3, 5, 7, 11, ...\n",
    "    \n",
    "def genPrimes():\n",
    "    primes = []   \n",
    "    last = 1      \n",
    "    while True:\n",
    "        last += 1\n",
    "        for p in primes:\n",
    "            if last % p == 0:\n",
    "                break\n",
    "        else:\n",
    "            primes.append(last)\n",
    "            yield last\n",
    "\n",
    "p = genPrimes()    \n",
    "    \n",
    "    "
   ]
  }
 ],
 "metadata": {
  "kernelspec": {
   "display_name": "Python 3",
   "language": "python",
   "name": "python3"
  },
  "language_info": {
   "codemirror_mode": {
    "name": "ipython",
    "version": 3
   },
   "file_extension": ".py",
   "mimetype": "text/x-python",
   "name": "python",
   "nbconvert_exporter": "python",
   "pygments_lexer": "ipython3",
   "version": "3.8.8"
  }
 },
 "nbformat": 4,
 "nbformat_minor": 5
}
